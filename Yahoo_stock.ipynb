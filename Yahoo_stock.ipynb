{
 "cells": [
  {
   "cell_type": "code",
   "execution_count": 1,
   "metadata": {},
   "outputs": [],
   "source": [
    "import yahoo_fin as yf\n",
    "import pandas as pd\n",
    "import numpy as np\n",
    "import yahoo_fin.stock_info as si\n",
    "import os\n",
    "os.chdir('E:\\StockStragegy\\HistoricalStockPrice')\n",
    "from collections import Counter"
   ]
  },
  {
   "cell_type": "code",
   "execution_count": 2,
   "metadata": {},
   "outputs": [],
   "source": [
    "Dow_tickers=si.tickers_dow()\n",
    "Nasdaq_tickers=si.tickers_nasdaq()\n",
    "sp500_tickers=si.tickers_sp500()"
   ]
  },
  {
   "cell_type": "code",
   "execution_count": 18,
   "metadata": {},
   "outputs": [
    {
     "name": "stdout",
     "output_type": "stream",
     "text": [
      "30 4139 505\n"
     ]
    }
   ],
   "source": [
    "print(len(Dow_tickers),len(Nasdaq_tickers),len(sp500_tickers))"
   ]
  },
  {
   "cell_type": "code",
   "execution_count": 19,
   "metadata": {},
   "outputs": [
    {
     "data": {
      "text/plain": [
       "4501"
      ]
     },
     "execution_count": 19,
     "metadata": {},
     "output_type": "execute_result"
    }
   ],
   "source": [
    "tickers=list(set(Dow_tickers+Nasdaq_tickers+sp500_tickers))\n",
    "len(tickers)"
   ]
  },
  {
   "cell_type": "code",
   "execution_count": 30,
   "metadata": {},
   "outputs": [
    {
     "name": "stdout",
     "output_type": "stream",
     "text": [
      "PRN\n",
      "ZCZZT\n",
      "BRK.B\n",
      "ZVZZC\n",
      "ZXYZ.A\n",
      "BF.B\n",
      "ZBZZT\n",
      "ZAZZT\n"
     ]
    }
   ],
   "source": [
    "for ticker in not_tickers:\n",
    "    try:\n",
    "        prices=si.get_data(ticker)\n",
    "        prices.to_excel(ticker+\".xlsx\")\n",
    "    except:\n",
    "        print(ticker)"
   ]
  },
  {
   "cell_type": "code",
   "execution_count": 31,
   "metadata": {},
   "outputs": [],
   "source": [
    "exist_tickers=[x[:-5] for x in os.listdir()]"
   ]
  },
  {
   "cell_type": "code",
   "execution_count": 32,
   "metadata": {},
   "outputs": [
    {
     "data": {
      "text/plain": [
       "4494"
      ]
     },
     "execution_count": 32,
     "metadata": {},
     "output_type": "execute_result"
    }
   ],
   "source": [
    "len(exist_tickers)"
   ]
  },
  {
   "cell_type": "code",
   "execution_count": null,
   "metadata": {},
   "outputs": [],
   "source": []
  }
 ],
 "metadata": {
  "kernelspec": {
   "display_name": "Python 3",
   "language": "python",
   "name": "python3"
  },
  "language_info": {
   "codemirror_mode": {
    "name": "ipython",
    "version": 3
   },
   "file_extension": ".py",
   "mimetype": "text/x-python",
   "name": "python",
   "nbconvert_exporter": "python",
   "pygments_lexer": "ipython3",
   "version": "3.6.5"
  }
 },
 "nbformat": 4,
 "nbformat_minor": 2
}
